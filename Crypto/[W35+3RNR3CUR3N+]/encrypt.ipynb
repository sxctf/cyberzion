{
 "cells": [
  {
   "cell_type": "code",
   "execution_count": 1,
   "metadata": {},
   "outputs": [],
   "source": [
    "import numpy as np"
   ]
  },
  {
   "cell_type": "code",
   "execution_count": 2,
   "metadata": {},
   "outputs": [],
   "source": [
    "def make_transition_matrix()->np.array:\n",
    "    \"\"\"Функция строит матрицу перехода рекуренты\"\"\"\n",
    "    S = np.zeros((64, 64), dtype=int)\n",
    "\n",
    "    for i in range(63):\n",
    "        S[i+1][i] = 1\n",
    "    S[0][0] = 1\n",
    "    S[0][12] = 1\n",
    "    S[0][63] = 1\n",
    "\n",
    "    return S\n",
    "\n",
    "\n",
    "def f(s):\n",
    "    \"\"\"\"Функция усложнения от значений рекуренты s\"\"\"\n",
    "    return s[63]^s[61]^s[59]^s[12]^s[2]^s[0]^(s[3] & s[4])\n",
    "\n",
    "def get_next(a: np.array, S: np.array):\n",
    "    \"\"\"\"Эта функция из значения рекуренты - a, генерирует значение следующей рекуренты\"\"\"\n",
    "    t = S@a\n",
    "\n",
    "    # булевые значения\n",
    "    t[np.where(t % 2 == 0)] = 0\n",
    "    t[np.where(t % 2 == 1)] = 1\n",
    "    return t\n",
    "\n",
    "def encrypt(key:np.array, text:str, S:np.array):\n",
    "    \"\"\"Шифрует текст text, с помощью ключа key\"\"\"\n",
    "    encrypt_text = ''\n",
    "\n",
    "    for i in range(len(text)):\n",
    "        encrypt_text += str(f(key) ^ int(text[i]))\n",
    "        key = get_next(a=key, S=S)\n",
    "    \n",
    "    return encrypt_text\n",
    "\n",
    "def array_to_string(array):\n",
    "    \"\"\"Конвертирует массив в строку\"\"\"\n",
    "    result = ''\n",
    "    for a in array:\n",
    "        result += str(a)\n",
    "    return result"
   ]
  },
  {
   "cell_type": "code",
   "execution_count": 8,
   "metadata": {},
   "outputs": [
    {
     "name": "stdout",
     "output_type": "stream",
     "text": [
      "0011110011000110101101101100100110100011001100010100100100110000\n"
     ]
    }
   ],
   "source": [
    "# генерируем рандомный секретный ключ (реальный файл закодирован другим ключом конечно же=))\n",
    "secret_key = np.random.choice([0, 1], 64)\n",
    "print(array_to_string(secret_key))"
   ]
  },
  {
   "cell_type": "code",
   "execution_count": 4,
   "metadata": {},
   "outputs": [],
   "source": [
    "# строим матрицу перехода\n",
    "S = make_transition_matrix()"
   ]
  },
  {
   "cell_type": "code",
   "execution_count": 5,
   "metadata": {},
   "outputs": [],
   "source": [
    "# Шифруем текст\n",
    "with open('flag_western_recurent.docx', 'rb') as file:\n",
    "    file_bytes = file.read()\n",
    "\n",
    "onpen_text = ''.join(format(byte, '08b') for byte in file_bytes)\n",
    "encrypt_text = encrypt(key=secret_key, text=onpen_text, S=S)\n",
    "\n",
    "# Сохраняем Шифрованный текст в txt файл\n",
    "with open(\"encrypted_text.txt\", \"w\") as file:\n",
    "    file.write(encrypt_text)"
   ]
  },
  {
   "cell_type": "markdown",
   "metadata": {},
   "source": [
    "Цель узнать содержимое `flag_western_recurent.docx` и послать в сиситему. Да прибудет с вами сила!"
   ]
  }
 ],
 "metadata": {
  "kernelspec": {
   "display_name": "Python 3",
   "language": "python",
   "name": "python3"
  },
  "language_info": {
   "codemirror_mode": {
    "name": "ipython",
    "version": 3
   },
   "file_extension": ".py",
   "mimetype": "text/x-python",
   "name": "python",
   "nbconvert_exporter": "python",
   "pygments_lexer": "ipython3",
   "version": "3.10.12"
  }
 },
 "nbformat": 4,
 "nbformat_minor": 2
}
